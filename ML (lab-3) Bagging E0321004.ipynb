{
 "cells": [
  {
   "cell_type": "code",
   "execution_count": 1,
   "id": "869a80e5",
   "metadata": {},
   "outputs": [],
   "source": [
    "import numpy as np \n",
    "import pandas as pd \n",
    "import matplotlib.pyplot as plt"
   ]
  },
  {
   "cell_type": "code",
   "execution_count": 2,
   "id": "3feadc6a",
   "metadata": {},
   "outputs": [
    {
     "data": {
      "text/html": [
       "<div>\n",
       "<style scoped>\n",
       "    .dataframe tbody tr th:only-of-type {\n",
       "        vertical-align: middle;\n",
       "    }\n",
       "\n",
       "    .dataframe tbody tr th {\n",
       "        vertical-align: top;\n",
       "    }\n",
       "\n",
       "    .dataframe thead th {\n",
       "        text-align: right;\n",
       "    }\n",
       "</style>\n",
       "<table border=\"1\" class=\"dataframe\">\n",
       "  <thead>\n",
       "    <tr style=\"text-align: right;\">\n",
       "      <th></th>\n",
       "      <th>Pregnancies</th>\n",
       "      <th>Glucose</th>\n",
       "      <th>BloodPressure</th>\n",
       "      <th>SkinThickness</th>\n",
       "      <th>Insulin</th>\n",
       "      <th>BMI</th>\n",
       "      <th>DiabetesPedigreeFunction</th>\n",
       "      <th>Age</th>\n",
       "      <th>Outcome</th>\n",
       "    </tr>\n",
       "  </thead>\n",
       "  <tbody>\n",
       "    <tr>\n",
       "      <th>0</th>\n",
       "      <td>6</td>\n",
       "      <td>148</td>\n",
       "      <td>72</td>\n",
       "      <td>35</td>\n",
       "      <td>0</td>\n",
       "      <td>33.6</td>\n",
       "      <td>0.627</td>\n",
       "      <td>50</td>\n",
       "      <td>1</td>\n",
       "    </tr>\n",
       "    <tr>\n",
       "      <th>1</th>\n",
       "      <td>1</td>\n",
       "      <td>85</td>\n",
       "      <td>66</td>\n",
       "      <td>29</td>\n",
       "      <td>0</td>\n",
       "      <td>26.6</td>\n",
       "      <td>0.351</td>\n",
       "      <td>31</td>\n",
       "      <td>0</td>\n",
       "    </tr>\n",
       "    <tr>\n",
       "      <th>2</th>\n",
       "      <td>8</td>\n",
       "      <td>183</td>\n",
       "      <td>64</td>\n",
       "      <td>0</td>\n",
       "      <td>0</td>\n",
       "      <td>23.3</td>\n",
       "      <td>0.672</td>\n",
       "      <td>32</td>\n",
       "      <td>1</td>\n",
       "    </tr>\n",
       "    <tr>\n",
       "      <th>3</th>\n",
       "      <td>1</td>\n",
       "      <td>89</td>\n",
       "      <td>66</td>\n",
       "      <td>23</td>\n",
       "      <td>94</td>\n",
       "      <td>28.1</td>\n",
       "      <td>0.167</td>\n",
       "      <td>21</td>\n",
       "      <td>0</td>\n",
       "    </tr>\n",
       "    <tr>\n",
       "      <th>4</th>\n",
       "      <td>0</td>\n",
       "      <td>137</td>\n",
       "      <td>40</td>\n",
       "      <td>35</td>\n",
       "      <td>168</td>\n",
       "      <td>43.1</td>\n",
       "      <td>2.288</td>\n",
       "      <td>33</td>\n",
       "      <td>1</td>\n",
       "    </tr>\n",
       "  </tbody>\n",
       "</table>\n",
       "</div>"
      ],
      "text/plain": [
       "   Pregnancies  Glucose  BloodPressure  SkinThickness  Insulin   BMI  \\\n",
       "0            6      148             72             35        0  33.6   \n",
       "1            1       85             66             29        0  26.6   \n",
       "2            8      183             64              0        0  23.3   \n",
       "3            1       89             66             23       94  28.1   \n",
       "4            0      137             40             35      168  43.1   \n",
       "\n",
       "   DiabetesPedigreeFunction  Age  Outcome  \n",
       "0                     0.627   50        1  \n",
       "1                     0.351   31        0  \n",
       "2                     0.672   32        1  \n",
       "3                     0.167   21        0  \n",
       "4                     2.288   33        1  "
      ]
     },
     "execution_count": 2,
     "metadata": {},
     "output_type": "execute_result"
    }
   ],
   "source": [
    "df = pd.read_csv(\"C:/Users/Vishali/OneDrive/Documents/diabetes.csv\")\n",
    "df.head()"
   ]
  },
  {
   "cell_type": "markdown",
   "id": "029bb18f",
   "metadata": {},
   "source": [
    "Replacing NaN values"
   ]
  },
  {
   "cell_type": "code",
   "execution_count": 3,
   "id": "0f48b0e7",
   "metadata": {},
   "outputs": [],
   "source": [
    "df['Glucose']=df['Glucose'].replace(0,df['Glucose'].mean())"
   ]
  },
  {
   "cell_type": "code",
   "execution_count": 4,
   "id": "6216c027",
   "metadata": {},
   "outputs": [],
   "source": [
    "df['BloodPressure']=df['BloodPressure'].replace(0,df['BloodPressure'].mean())"
   ]
  },
  {
   "cell_type": "code",
   "execution_count": 5,
   "id": "17c0189f",
   "metadata": {},
   "outputs": [],
   "source": [
    "df['SkinThickness']=df['SkinThickness'].replace(0,df['SkinThickness'].median())"
   ]
  },
  {
   "cell_type": "code",
   "execution_count": 6,
   "id": "2faa796a",
   "metadata": {},
   "outputs": [],
   "source": [
    "df['Insulin']=df['Insulin'].replace(0,df['Insulin'].median())"
   ]
  },
  {
   "cell_type": "code",
   "execution_count": 7,
   "id": "1c1f377a",
   "metadata": {},
   "outputs": [],
   "source": [
    "df['BMI']=df['BMI'].replace(0,df['BMI'].median())"
   ]
  },
  {
   "cell_type": "markdown",
   "id": "35a26c9e",
   "metadata": {},
   "source": [
    "Droping the unwanted columns"
   ]
  },
  {
   "cell_type": "code",
   "execution_count": 8,
   "id": "c47278e0",
   "metadata": {},
   "outputs": [
    {
     "data": {
      "text/plain": [
       "Index(['Pregnancies', 'Glucose', 'BloodPressure', 'Insulin', 'BMI', 'Age',\n",
       "       'Outcome'],\n",
       "      dtype='object')"
      ]
     },
     "execution_count": 8,
     "metadata": {},
     "output_type": "execute_result"
    }
   ],
   "source": [
    "data_sf = df.drop(['DiabetesPedigreeFunction','SkinThickness'], axis = 1)\n",
    "data_sf.columns"
   ]
  },
  {
   "cell_type": "markdown",
   "id": "4bd8ccfc",
   "metadata": {},
   "source": [
    "Managing the outliers"
   ]
  },
  {
   "cell_type": "code",
   "execution_count": 9,
   "id": "d103672a",
   "metadata": {},
   "outputs": [
    {
     "name": "stderr",
     "output_type": "stream",
     "text": [
      "C:\\Users\\User\\anaconda3\\Lib\\site-packages\\sklearn\\preprocessing\\_data.py:2667: UserWarning: n_quantiles (1000) is greater than the total number of samples (768). n_quantiles is set to n_samples.\n",
      "  warnings.warn(\n",
      "C:\\Users\\User\\anaconda3\\Lib\\site-packages\\sklearn\\base.py:464: UserWarning: X does not have valid feature names, but QuantileTransformer was fitted with feature names\n",
      "  warnings.warn(\n"
     ]
    }
   ],
   "source": [
    "from sklearn.preprocessing import QuantileTransformer\n",
    "\n",
    "x=data_sf\n",
    "\n",
    "quantile  = QuantileTransformer()\n",
    "X = quantile.fit_transform(x)\n",
    "\n",
    "dff=quantile.transform(X)\n",
    "dff=pd.DataFrame(X)\n",
    "dff.columns =['Pregnancies', 'BloodPressure' , 'Glucose', 'Insulin', 'BMI', 'Age', 'Outcome']"
   ]
  },
  {
   "cell_type": "markdown",
   "id": "94bbe6ec",
   "metadata": {},
   "source": [
    "### Taking 50% of Data from the dataset"
   ]
  },
  {
   "cell_type": "markdown",
   "id": "07b59815",
   "metadata": {},
   "source": [
    "#### 1st Time"
   ]
  },
  {
   "cell_type": "code",
   "execution_count": 10,
   "id": "74aa2940",
   "metadata": {},
   "outputs": [
    {
     "data": {
      "text/plain": [
       "(384, 7)"
      ]
     },
     "execution_count": 10,
     "metadata": {},
     "output_type": "execute_result"
    }
   ],
   "source": [
    "df1 = dff.sample(frac=.50)  #(frac =.50) means 50% of the data\n",
    "df1.shape"
   ]
  },
  {
   "cell_type": "code",
   "execution_count": 11,
   "id": "ff0a9a2f",
   "metadata": {},
   "outputs": [
    {
     "data": {
      "text/html": [
       "<div>\n",
       "<style scoped>\n",
       "    .dataframe tbody tr th:only-of-type {\n",
       "        vertical-align: middle;\n",
       "    }\n",
       "\n",
       "    .dataframe tbody tr th {\n",
       "        vertical-align: top;\n",
       "    }\n",
       "\n",
       "    .dataframe thead th {\n",
       "        text-align: right;\n",
       "    }\n",
       "</style>\n",
       "<table border=\"1\" class=\"dataframe\">\n",
       "  <thead>\n",
       "    <tr style=\"text-align: right;\">\n",
       "      <th></th>\n",
       "      <th>Pregnancies</th>\n",
       "      <th>BloodPressure</th>\n",
       "      <th>Glucose</th>\n",
       "      <th>Insulin</th>\n",
       "      <th>BMI</th>\n",
       "      <th>Age</th>\n",
       "      <th>Outcome</th>\n",
       "    </tr>\n",
       "  </thead>\n",
       "  <tbody>\n",
       "    <tr>\n",
       "      <th>432</th>\n",
       "      <td>0.232725</td>\n",
       "      <td>0.050196</td>\n",
       "      <td>0.579531</td>\n",
       "      <td>0.566493</td>\n",
       "      <td>0.375489</td>\n",
       "      <td>0.128422</td>\n",
       "      <td>0.0</td>\n",
       "    </tr>\n",
       "    <tr>\n",
       "      <th>175</th>\n",
       "      <td>0.863755</td>\n",
       "      <td>0.937419</td>\n",
       "      <td>0.516949</td>\n",
       "      <td>0.758801</td>\n",
       "      <td>0.533246</td>\n",
       "      <td>0.659713</td>\n",
       "      <td>1.0</td>\n",
       "    </tr>\n",
       "    <tr>\n",
       "      <th>568</th>\n",
       "      <td>0.596480</td>\n",
       "      <td>0.837679</td>\n",
       "      <td>0.516949</td>\n",
       "      <td>0.747066</td>\n",
       "      <td>0.452412</td>\n",
       "      <td>0.681877</td>\n",
       "      <td>0.0</td>\n",
       "    </tr>\n",
       "    <tr>\n",
       "      <th>139</th>\n",
       "      <td>0.677966</td>\n",
       "      <td>0.327901</td>\n",
       "      <td>0.516949</td>\n",
       "      <td>0.959583</td>\n",
       "      <td>0.766623</td>\n",
       "      <td>0.455020</td>\n",
       "      <td>0.0</td>\n",
       "    </tr>\n",
       "    <tr>\n",
       "      <th>330</th>\n",
       "      <td>0.863755</td>\n",
       "      <td>0.506519</td>\n",
       "      <td>0.516949</td>\n",
       "      <td>0.256193</td>\n",
       "      <td>0.069752</td>\n",
       "      <td>0.855280</td>\n",
       "      <td>0.0</td>\n",
       "    </tr>\n",
       "    <tr>\n",
       "      <th>...</th>\n",
       "      <td>...</td>\n",
       "      <td>...</td>\n",
       "      <td>...</td>\n",
       "      <td>...</td>\n",
       "      <td>...</td>\n",
       "      <td>...</td>\n",
       "      <td>...</td>\n",
       "    </tr>\n",
       "    <tr>\n",
       "      <th>716</th>\n",
       "      <td>0.503259</td>\n",
       "      <td>0.919817</td>\n",
       "      <td>0.704694</td>\n",
       "      <td>0.866362</td>\n",
       "      <td>0.606258</td>\n",
       "      <td>0.558670</td>\n",
       "      <td>1.0</td>\n",
       "    </tr>\n",
       "    <tr>\n",
       "      <th>630</th>\n",
       "      <td>0.809648</td>\n",
       "      <td>0.458931</td>\n",
       "      <td>0.233377</td>\n",
       "      <td>0.256193</td>\n",
       "      <td>0.241199</td>\n",
       "      <td>0.626467</td>\n",
       "      <td>1.0</td>\n",
       "    </tr>\n",
       "    <tr>\n",
       "      <th>53</th>\n",
       "      <td>0.863755</td>\n",
       "      <td>0.930248</td>\n",
       "      <td>0.936767</td>\n",
       "      <td>0.951760</td>\n",
       "      <td>0.599739</td>\n",
       "      <td>0.950456</td>\n",
       "      <td>1.0</td>\n",
       "    </tr>\n",
       "    <tr>\n",
       "      <th>137</th>\n",
       "      <td>0.000000</td>\n",
       "      <td>0.170795</td>\n",
       "      <td>0.135593</td>\n",
       "      <td>0.656454</td>\n",
       "      <td>0.309648</td>\n",
       "      <td>0.128422</td>\n",
       "      <td>0.0</td>\n",
       "    </tr>\n",
       "    <tr>\n",
       "      <th>342</th>\n",
       "      <td>0.232725</td>\n",
       "      <td>0.543025</td>\n",
       "      <td>0.338983</td>\n",
       "      <td>0.256193</td>\n",
       "      <td>0.487614</td>\n",
       "      <td>0.128422</td>\n",
       "      <td>0.0</td>\n",
       "    </tr>\n",
       "  </tbody>\n",
       "</table>\n",
       "<p>384 rows × 7 columns</p>\n",
       "</div>"
      ],
      "text/plain": [
       "     Pregnancies  BloodPressure   Glucose   Insulin       BMI       Age  \\\n",
       "432     0.232725       0.050196  0.579531  0.566493  0.375489  0.128422   \n",
       "175     0.863755       0.937419  0.516949  0.758801  0.533246  0.659713   \n",
       "568     0.596480       0.837679  0.516949  0.747066  0.452412  0.681877   \n",
       "139     0.677966       0.327901  0.516949  0.959583  0.766623  0.455020   \n",
       "330     0.863755       0.506519  0.516949  0.256193  0.069752  0.855280   \n",
       "..           ...            ...       ...       ...       ...       ...   \n",
       "716     0.503259       0.919817  0.704694  0.866362  0.606258  0.558670   \n",
       "630     0.809648       0.458931  0.233377  0.256193  0.241199  0.626467   \n",
       "53      0.863755       0.930248  0.936767  0.951760  0.599739  0.950456   \n",
       "137     0.000000       0.170795  0.135593  0.656454  0.309648  0.128422   \n",
       "342     0.232725       0.543025  0.338983  0.256193  0.487614  0.128422   \n",
       "\n",
       "     Outcome  \n",
       "432      0.0  \n",
       "175      1.0  \n",
       "568      0.0  \n",
       "139      0.0  \n",
       "330      0.0  \n",
       "..       ...  \n",
       "716      1.0  \n",
       "630      1.0  \n",
       "53       1.0  \n",
       "137      0.0  \n",
       "342      0.0  \n",
       "\n",
       "[384 rows x 7 columns]"
      ]
     },
     "execution_count": 11,
     "metadata": {},
     "output_type": "execute_result"
    }
   ],
   "source": [
    "df1"
   ]
  },
  {
   "cell_type": "code",
   "execution_count": 12,
   "id": "44f045c4",
   "metadata": {},
   "outputs": [],
   "source": [
    "X = df1.drop(['Outcome'],axis = 1)\n",
    "y = df1['Outcome']"
   ]
  },
  {
   "cell_type": "code",
   "execution_count": 13,
   "id": "27035e57",
   "metadata": {},
   "outputs": [
    {
     "data": {
      "text/html": [
       "<div>\n",
       "<style scoped>\n",
       "    .dataframe tbody tr th:only-of-type {\n",
       "        vertical-align: middle;\n",
       "    }\n",
       "\n",
       "    .dataframe tbody tr th {\n",
       "        vertical-align: top;\n",
       "    }\n",
       "\n",
       "    .dataframe thead th {\n",
       "        text-align: right;\n",
       "    }\n",
       "</style>\n",
       "<table border=\"1\" class=\"dataframe\">\n",
       "  <thead>\n",
       "    <tr style=\"text-align: right;\">\n",
       "      <th></th>\n",
       "      <th>Pregnancies</th>\n",
       "      <th>BloodPressure</th>\n",
       "      <th>Glucose</th>\n",
       "      <th>Insulin</th>\n",
       "      <th>BMI</th>\n",
       "      <th>Age</th>\n",
       "    </tr>\n",
       "  </thead>\n",
       "  <tbody>\n",
       "    <tr>\n",
       "      <th>432</th>\n",
       "      <td>0.232725</td>\n",
       "      <td>0.050196</td>\n",
       "      <td>0.579531</td>\n",
       "      <td>0.566493</td>\n",
       "      <td>0.375489</td>\n",
       "      <td>0.128422</td>\n",
       "    </tr>\n",
       "    <tr>\n",
       "      <th>175</th>\n",
       "      <td>0.863755</td>\n",
       "      <td>0.937419</td>\n",
       "      <td>0.516949</td>\n",
       "      <td>0.758801</td>\n",
       "      <td>0.533246</td>\n",
       "      <td>0.659713</td>\n",
       "    </tr>\n",
       "    <tr>\n",
       "      <th>568</th>\n",
       "      <td>0.596480</td>\n",
       "      <td>0.837679</td>\n",
       "      <td>0.516949</td>\n",
       "      <td>0.747066</td>\n",
       "      <td>0.452412</td>\n",
       "      <td>0.681877</td>\n",
       "    </tr>\n",
       "    <tr>\n",
       "      <th>139</th>\n",
       "      <td>0.677966</td>\n",
       "      <td>0.327901</td>\n",
       "      <td>0.516949</td>\n",
       "      <td>0.959583</td>\n",
       "      <td>0.766623</td>\n",
       "      <td>0.455020</td>\n",
       "    </tr>\n",
       "    <tr>\n",
       "      <th>330</th>\n",
       "      <td>0.863755</td>\n",
       "      <td>0.506519</td>\n",
       "      <td>0.516949</td>\n",
       "      <td>0.256193</td>\n",
       "      <td>0.069752</td>\n",
       "      <td>0.855280</td>\n",
       "    </tr>\n",
       "  </tbody>\n",
       "</table>\n",
       "</div>"
      ],
      "text/plain": [
       "     Pregnancies  BloodPressure   Glucose   Insulin       BMI       Age\n",
       "432     0.232725       0.050196  0.579531  0.566493  0.375489  0.128422\n",
       "175     0.863755       0.937419  0.516949  0.758801  0.533246  0.659713\n",
       "568     0.596480       0.837679  0.516949  0.747066  0.452412  0.681877\n",
       "139     0.677966       0.327901  0.516949  0.959583  0.766623  0.455020\n",
       "330     0.863755       0.506519  0.516949  0.256193  0.069752  0.855280"
      ]
     },
     "execution_count": 13,
     "metadata": {},
     "output_type": "execute_result"
    }
   ],
   "source": [
    "X.head()"
   ]
  },
  {
   "cell_type": "code",
   "execution_count": 14,
   "id": "a92ebe40",
   "metadata": {},
   "outputs": [
    {
     "data": {
      "text/plain": [
       "432    0.0\n",
       "175    1.0\n",
       "568    0.0\n",
       "139    0.0\n",
       "330    0.0\n",
       "Name: Outcome, dtype: float64"
      ]
     },
     "execution_count": 14,
     "metadata": {},
     "output_type": "execute_result"
    }
   ],
   "source": [
    "y.head()"
   ]
  },
  {
   "cell_type": "code",
   "execution_count": 15,
   "id": "7d157073",
   "metadata": {},
   "outputs": [],
   "source": [
    "from sklearn.model_selection import train_test_split\n",
    "X_train, X_test, y_train, y_test = train_test_split(X, y, test_size=0.2, random_state=42)\n",
    "\n",
    "from sklearn.preprocessing import StandardScaler\n",
    "scaler = StandardScaler()\n",
    "X_train = scaler.fit_transform(X_train)\n",
    "X_test = scaler.transform(X_test)"
   ]
  },
  {
   "cell_type": "markdown",
   "id": "fd1210e7",
   "metadata": {},
   "source": [
    "Using Decision Tree Classification"
   ]
  },
  {
   "cell_type": "code",
   "execution_count": 30,
   "id": "c1ed8ff4",
   "metadata": {},
   "outputs": [
    {
     "name": "stdout",
     "output_type": "stream",
     "text": [
      "Accuracy 3 :  0.6410256410256411\n"
     ]
    }
   ],
   "source": [
    "from sklearn.tree import DecisionTreeClassifier\n",
    "decision_tree = DecisionTreeClassifier()\n",
    "decision_tree.fit(X_train, y_train)\n",
    "\n",
    "y_pred = decision_tree.predict(X_test)\n",
    "\n",
    "from sklearn.metrics import accuracy_score\n",
    "accuracy = accuracy_score(y_test, y_pred)\n",
    "print(\"Accuracy 3 : \",accuracy)"
   ]
  },
  {
   "cell_type": "markdown",
   "id": "83f9a1c8",
   "metadata": {},
   "source": [
    "#### 2nd Time"
   ]
  },
  {
   "cell_type": "code",
   "execution_count": 17,
   "id": "b4253c7d",
   "metadata": {},
   "outputs": [
    {
     "data": {
      "text/plain": [
       "(384, 7)"
      ]
     },
     "execution_count": 17,
     "metadata": {},
     "output_type": "execute_result"
    }
   ],
   "source": [
    "df2 = dff.sample(frac=.50)\n",
    "df2.shape"
   ]
  },
  {
   "cell_type": "code",
   "execution_count": 18,
   "id": "04c41569",
   "metadata": {},
   "outputs": [
    {
     "data": {
      "text/html": [
       "<div>\n",
       "<style scoped>\n",
       "    .dataframe tbody tr th:only-of-type {\n",
       "        vertical-align: middle;\n",
       "    }\n",
       "\n",
       "    .dataframe tbody tr th {\n",
       "        vertical-align: top;\n",
       "    }\n",
       "\n",
       "    .dataframe thead th {\n",
       "        text-align: right;\n",
       "    }\n",
       "</style>\n",
       "<table border=\"1\" class=\"dataframe\">\n",
       "  <thead>\n",
       "    <tr style=\"text-align: right;\">\n",
       "      <th></th>\n",
       "      <th>Pregnancies</th>\n",
       "      <th>BloodPressure</th>\n",
       "      <th>Glucose</th>\n",
       "      <th>Insulin</th>\n",
       "      <th>BMI</th>\n",
       "      <th>Age</th>\n",
       "      <th>Outcome</th>\n",
       "    </tr>\n",
       "  </thead>\n",
       "  <tbody>\n",
       "    <tr>\n",
       "      <th>688</th>\n",
       "      <td>0.232725</td>\n",
       "      <td>0.747066</td>\n",
       "      <td>0.579531</td>\n",
       "      <td>0.853977</td>\n",
       "      <td>0.101695</td>\n",
       "      <td>0.200130</td>\n",
       "      <td>0.0</td>\n",
       "    </tr>\n",
       "    <tr>\n",
       "      <th>692</th>\n",
       "      <td>0.387223</td>\n",
       "      <td>0.549544</td>\n",
       "      <td>0.451108</td>\n",
       "      <td>0.668188</td>\n",
       "      <td>0.844198</td>\n",
       "      <td>0.200130</td>\n",
       "      <td>0.0</td>\n",
       "    </tr>\n",
       "    <tr>\n",
       "      <th>385</th>\n",
       "      <td>0.232725</td>\n",
       "      <td>0.517601</td>\n",
       "      <td>0.058670</td>\n",
       "      <td>0.537158</td>\n",
       "      <td>0.050847</td>\n",
       "      <td>0.254889</td>\n",
       "      <td>0.0</td>\n",
       "    </tr>\n",
       "    <tr>\n",
       "      <th>1</th>\n",
       "      <td>0.232725</td>\n",
       "      <td>0.091265</td>\n",
       "      <td>0.290091</td>\n",
       "      <td>0.256193</td>\n",
       "      <td>0.213168</td>\n",
       "      <td>0.558670</td>\n",
       "      <td>0.0</td>\n",
       "    </tr>\n",
       "    <tr>\n",
       "      <th>316</th>\n",
       "      <td>0.503259</td>\n",
       "      <td>0.238592</td>\n",
       "      <td>0.760104</td>\n",
       "      <td>0.575619</td>\n",
       "      <td>0.006519</td>\n",
       "      <td>0.529335</td>\n",
       "      <td>0.0</td>\n",
       "    </tr>\n",
       "    <tr>\n",
       "      <th>...</th>\n",
       "      <td>...</td>\n",
       "      <td>...</td>\n",
       "      <td>...</td>\n",
       "      <td>...</td>\n",
       "      <td>...</td>\n",
       "      <td>...</td>\n",
       "      <td>...</td>\n",
       "    </tr>\n",
       "    <tr>\n",
       "      <th>455</th>\n",
       "      <td>0.996741</td>\n",
       "      <td>0.927640</td>\n",
       "      <td>0.183181</td>\n",
       "      <td>0.256193</td>\n",
       "      <td>0.591265</td>\n",
       "      <td>0.705346</td>\n",
       "      <td>1.0</td>\n",
       "    </tr>\n",
       "    <tr>\n",
       "      <th>299</th>\n",
       "      <td>0.863755</td>\n",
       "      <td>0.436767</td>\n",
       "      <td>0.516949</td>\n",
       "      <td>0.256193</td>\n",
       "      <td>0.086050</td>\n",
       "      <td>0.950456</td>\n",
       "      <td>0.0</td>\n",
       "    </tr>\n",
       "    <tr>\n",
       "      <th>88</th>\n",
       "      <td>0.998696</td>\n",
       "      <td>0.711213</td>\n",
       "      <td>0.451108</td>\n",
       "      <td>0.707301</td>\n",
       "      <td>0.770535</td>\n",
       "      <td>0.808344</td>\n",
       "      <td>1.0</td>\n",
       "    </tr>\n",
       "    <tr>\n",
       "      <th>573</th>\n",
       "      <td>0.387223</td>\n",
       "      <td>0.225554</td>\n",
       "      <td>0.135593</td>\n",
       "      <td>0.732073</td>\n",
       "      <td>0.664276</td>\n",
       "      <td>0.128422</td>\n",
       "      <td>0.0</td>\n",
       "    </tr>\n",
       "    <tr>\n",
       "      <th>611</th>\n",
       "      <td>0.503259</td>\n",
       "      <td>0.925033</td>\n",
       "      <td>0.098435</td>\n",
       "      <td>0.881356</td>\n",
       "      <td>0.552803</td>\n",
       "      <td>0.659713</td>\n",
       "      <td>1.0</td>\n",
       "    </tr>\n",
       "  </tbody>\n",
       "</table>\n",
       "<p>384 rows × 7 columns</p>\n",
       "</div>"
      ],
      "text/plain": [
       "     Pregnancies  BloodPressure   Glucose   Insulin       BMI       Age  \\\n",
       "688     0.232725       0.747066  0.579531  0.853977  0.101695  0.200130   \n",
       "692     0.387223       0.549544  0.451108  0.668188  0.844198  0.200130   \n",
       "385     0.232725       0.517601  0.058670  0.537158  0.050847  0.254889   \n",
       "1       0.232725       0.091265  0.290091  0.256193  0.213168  0.558670   \n",
       "316     0.503259       0.238592  0.760104  0.575619  0.006519  0.529335   \n",
       "..           ...            ...       ...       ...       ...       ...   \n",
       "455     0.996741       0.927640  0.183181  0.256193  0.591265  0.705346   \n",
       "299     0.863755       0.436767  0.516949  0.256193  0.086050  0.950456   \n",
       "88      0.998696       0.711213  0.451108  0.707301  0.770535  0.808344   \n",
       "573     0.387223       0.225554  0.135593  0.732073  0.664276  0.128422   \n",
       "611     0.503259       0.925033  0.098435  0.881356  0.552803  0.659713   \n",
       "\n",
       "     Outcome  \n",
       "688      0.0  \n",
       "692      0.0  \n",
       "385      0.0  \n",
       "1        0.0  \n",
       "316      0.0  \n",
       "..       ...  \n",
       "455      1.0  \n",
       "299      0.0  \n",
       "88       1.0  \n",
       "573      0.0  \n",
       "611      1.0  \n",
       "\n",
       "[384 rows x 7 columns]"
      ]
     },
     "execution_count": 18,
     "metadata": {},
     "output_type": "execute_result"
    }
   ],
   "source": [
    "df2"
   ]
  },
  {
   "cell_type": "code",
   "execution_count": 20,
   "id": "621fb753",
   "metadata": {},
   "outputs": [],
   "source": [
    "X2 = df2.drop(['Outcome'],axis = 1)\n",
    "y2 = df2['Outcome']"
   ]
  },
  {
   "cell_type": "code",
   "execution_count": 21,
   "id": "0a3ad840",
   "metadata": {},
   "outputs": [],
   "source": [
    "from sklearn.model_selection import train_test_split\n",
    "X_train, X_test, y_train, y_test = train_test_split(X2, y2, test_size=0.2, random_state=42)\n",
    "\n",
    "from sklearn.preprocessing import StandardScaler\n",
    "scaler = StandardScaler()\n",
    "X_train = scaler.fit_transform(X_train)\n",
    "X_test = scaler.transform(X_test)"
   ]
  },
  {
   "cell_type": "markdown",
   "id": "fad1bb8c",
   "metadata": {},
   "source": [
    "Using Decision Tree Classification"
   ]
  },
  {
   "cell_type": "code",
   "execution_count": 29,
   "id": "b528fa77",
   "metadata": {},
   "outputs": [
    {
     "name": "stdout",
     "output_type": "stream",
     "text": [
      "Accuracy 2 :  0.6666666666666666\n"
     ]
    }
   ],
   "source": [
    "from sklearn.tree import DecisionTreeClassifier\n",
    "decision_tree = DecisionTreeClassifier()\n",
    "decision_tree.fit(X_train, y_train)\n",
    "\n",
    "y_pred = decision_tree.predict(X_test)\n",
    "\n",
    "from sklearn.metrics import accuracy_score\n",
    "accuracy = accuracy_score(y_test, y_pred)\n",
    "print(\"Accuracy 2 : \",accuracy)"
   ]
  },
  {
   "cell_type": "markdown",
   "id": "6b891a23",
   "metadata": {},
   "source": [
    "#### 3rd Time"
   ]
  },
  {
   "cell_type": "code",
   "execution_count": 23,
   "id": "381bc46c",
   "metadata": {},
   "outputs": [
    {
     "data": {
      "text/plain": [
       "(192, 7)"
      ]
     },
     "execution_count": 23,
     "metadata": {},
     "output_type": "execute_result"
    }
   ],
   "source": [
    "df3 = df1.sample(frac=.50)\n",
    "df3.shape"
   ]
  },
  {
   "cell_type": "code",
   "execution_count": 24,
   "id": "06abd65e",
   "metadata": {},
   "outputs": [
    {
     "data": {
      "text/html": [
       "<div>\n",
       "<style scoped>\n",
       "    .dataframe tbody tr th:only-of-type {\n",
       "        vertical-align: middle;\n",
       "    }\n",
       "\n",
       "    .dataframe tbody tr th {\n",
       "        vertical-align: top;\n",
       "    }\n",
       "\n",
       "    .dataframe thead th {\n",
       "        text-align: right;\n",
       "    }\n",
       "</style>\n",
       "<table border=\"1\" class=\"dataframe\">\n",
       "  <thead>\n",
       "    <tr style=\"text-align: right;\">\n",
       "      <th></th>\n",
       "      <th>Pregnancies</th>\n",
       "      <th>BloodPressure</th>\n",
       "      <th>Glucose</th>\n",
       "      <th>Insulin</th>\n",
       "      <th>BMI</th>\n",
       "      <th>Age</th>\n",
       "      <th>Outcome</th>\n",
       "    </tr>\n",
       "  </thead>\n",
       "  <tbody>\n",
       "    <tr>\n",
       "      <th>425</th>\n",
       "      <td>0.596480</td>\n",
       "      <td>0.960887</td>\n",
       "      <td>0.704694</td>\n",
       "      <td>0.940026</td>\n",
       "      <td>0.769231</td>\n",
       "      <td>0.558670</td>\n",
       "      <td>1.0</td>\n",
       "    </tr>\n",
       "    <tr>\n",
       "      <th>137</th>\n",
       "      <td>0.000000</td>\n",
       "      <td>0.170795</td>\n",
       "      <td>0.135593</td>\n",
       "      <td>0.656454</td>\n",
       "      <td>0.309648</td>\n",
       "      <td>0.128422</td>\n",
       "      <td>0.0</td>\n",
       "    </tr>\n",
       "    <tr>\n",
       "      <th>473</th>\n",
       "      <td>0.809648</td>\n",
       "      <td>0.711213</td>\n",
       "      <td>0.936767</td>\n",
       "      <td>0.256193</td>\n",
       "      <td>0.367666</td>\n",
       "      <td>0.889831</td>\n",
       "      <td>0.0</td>\n",
       "    </tr>\n",
       "    <tr>\n",
       "      <th>610</th>\n",
       "      <td>0.503259</td>\n",
       "      <td>0.346806</td>\n",
       "      <td>0.058670</td>\n",
       "      <td>0.814211</td>\n",
       "      <td>0.428944</td>\n",
       "      <td>0.254889</td>\n",
       "      <td>0.0</td>\n",
       "    </tr>\n",
       "    <tr>\n",
       "      <th>585</th>\n",
       "      <td>0.232725</td>\n",
       "      <td>0.170795</td>\n",
       "      <td>0.076271</td>\n",
       "      <td>0.256193</td>\n",
       "      <td>0.056063</td>\n",
       "      <td>0.128422</td>\n",
       "      <td>0.0</td>\n",
       "    </tr>\n",
       "    <tr>\n",
       "      <th>...</th>\n",
       "      <td>...</td>\n",
       "      <td>...</td>\n",
       "      <td>...</td>\n",
       "      <td>...</td>\n",
       "      <td>...</td>\n",
       "      <td>...</td>\n",
       "      <td>...</td>\n",
       "    </tr>\n",
       "    <tr>\n",
       "      <th>134</th>\n",
       "      <td>0.387223</td>\n",
       "      <td>0.206649</td>\n",
       "      <td>0.338983</td>\n",
       "      <td>0.532595</td>\n",
       "      <td>0.029335</td>\n",
       "      <td>0.368970</td>\n",
       "      <td>0.0</td>\n",
       "    </tr>\n",
       "    <tr>\n",
       "      <th>316</th>\n",
       "      <td>0.503259</td>\n",
       "      <td>0.238592</td>\n",
       "      <td>0.760104</td>\n",
       "      <td>0.575619</td>\n",
       "      <td>0.006519</td>\n",
       "      <td>0.529335</td>\n",
       "      <td>0.0</td>\n",
       "    </tr>\n",
       "    <tr>\n",
       "      <th>749</th>\n",
       "      <td>0.747718</td>\n",
       "      <td>0.876793</td>\n",
       "      <td>0.183181</td>\n",
       "      <td>0.256193</td>\n",
       "      <td>0.112777</td>\n",
       "      <td>0.889831</td>\n",
       "      <td>1.0</td>\n",
       "    </tr>\n",
       "    <tr>\n",
       "      <th>59</th>\n",
       "      <td>0.000000</td>\n",
       "      <td>0.327901</td>\n",
       "      <td>0.233377</td>\n",
       "      <td>0.787484</td>\n",
       "      <td>0.900261</td>\n",
       "      <td>0.128422</td>\n",
       "      <td>0.0</td>\n",
       "    </tr>\n",
       "    <tr>\n",
       "      <th>369</th>\n",
       "      <td>0.232725</td>\n",
       "      <td>0.689700</td>\n",
       "      <td>0.984355</td>\n",
       "      <td>0.781617</td>\n",
       "      <td>0.541069</td>\n",
       "      <td>0.837027</td>\n",
       "      <td>1.0</td>\n",
       "    </tr>\n",
       "  </tbody>\n",
       "</table>\n",
       "<p>192 rows × 7 columns</p>\n",
       "</div>"
      ],
      "text/plain": [
       "     Pregnancies  BloodPressure   Glucose   Insulin       BMI       Age  \\\n",
       "425     0.596480       0.960887  0.704694  0.940026  0.769231  0.558670   \n",
       "137     0.000000       0.170795  0.135593  0.656454  0.309648  0.128422   \n",
       "473     0.809648       0.711213  0.936767  0.256193  0.367666  0.889831   \n",
       "610     0.503259       0.346806  0.058670  0.814211  0.428944  0.254889   \n",
       "585     0.232725       0.170795  0.076271  0.256193  0.056063  0.128422   \n",
       "..           ...            ...       ...       ...       ...       ...   \n",
       "134     0.387223       0.206649  0.338983  0.532595  0.029335  0.368970   \n",
       "316     0.503259       0.238592  0.760104  0.575619  0.006519  0.529335   \n",
       "749     0.747718       0.876793  0.183181  0.256193  0.112777  0.889831   \n",
       "59      0.000000       0.327901  0.233377  0.787484  0.900261  0.128422   \n",
       "369     0.232725       0.689700  0.984355  0.781617  0.541069  0.837027   \n",
       "\n",
       "     Outcome  \n",
       "425      1.0  \n",
       "137      0.0  \n",
       "473      0.0  \n",
       "610      0.0  \n",
       "585      0.0  \n",
       "..       ...  \n",
       "134      0.0  \n",
       "316      0.0  \n",
       "749      1.0  \n",
       "59       0.0  \n",
       "369      1.0  \n",
       "\n",
       "[192 rows x 7 columns]"
      ]
     },
     "execution_count": 24,
     "metadata": {},
     "output_type": "execute_result"
    }
   ],
   "source": [
    "df3"
   ]
  },
  {
   "cell_type": "code",
   "execution_count": 25,
   "id": "5151a8c2",
   "metadata": {},
   "outputs": [],
   "source": [
    "X3 = df3.drop(['Outcome'],axis = 1)\n",
    "y3 = df3['Outcome']"
   ]
  },
  {
   "cell_type": "code",
   "execution_count": 26,
   "id": "2fee1f55",
   "metadata": {},
   "outputs": [],
   "source": [
    "from sklearn.model_selection import train_test_split\n",
    "X_train, X_test, y_train, y_test = train_test_split(X3, y3, test_size=0.2, random_state=42)\n",
    "\n",
    "from sklearn.preprocessing import StandardScaler\n",
    "scaler = StandardScaler()\n",
    "X_train = scaler.fit_transform(X_train)\n",
    "X_test = scaler.transform(X_test)"
   ]
  },
  {
   "cell_type": "markdown",
   "id": "e833ef05",
   "metadata": {},
   "source": [
    "Using Decision Tree Classification"
   ]
  },
  {
   "cell_type": "code",
   "execution_count": 31,
   "id": "7b22596c",
   "metadata": {},
   "outputs": [
    {
     "name": "stdout",
     "output_type": "stream",
     "text": [
      "Accuracy 3 :  0.6666666666666666\n"
     ]
    }
   ],
   "source": [
    "from sklearn.tree import DecisionTreeClassifier\n",
    "decision_tree = DecisionTreeClassifier()\n",
    "decision_tree.fit(X_train, y_train)\n",
    "\n",
    "y_pred = decision_tree.predict(X_test)\n",
    "\n",
    "from sklearn.metrics import accuracy_score\n",
    "accuracy = accuracy_score(y_test, y_pred)\n",
    "print(\"Accuracy 3 : \",accuracy)"
   ]
  }
 ],
 "metadata": {
  "kernelspec": {
   "display_name": "Python 3 (ipykernel)",
   "language": "python",
   "name": "python3"
  },
  "language_info": {
   "codemirror_mode": {
    "name": "ipython",
    "version": 3
   },
   "file_extension": ".py",
   "mimetype": "text/x-python",
   "name": "python",
   "nbconvert_exporter": "python",
   "pygments_lexer": "ipython3",
   "version": "3.11.5"
  }
 },
 "nbformat": 4,
 "nbformat_minor": 5
}
